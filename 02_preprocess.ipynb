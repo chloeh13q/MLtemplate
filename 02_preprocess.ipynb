{
 "cells": [
  {
   "cell_type": "code",
   "execution_count": null,
   "id": "f5d8a3a7-d8af-4c20-a3da-32f925c2fb69",
   "metadata": {
    "tags": [
     "parameters"
    ]
   },
   "outputs": [],
   "source": [
    "# Default parameters\n",
    "# Define default parameters in this notebook cell; these parameters can be overriden from command line via papermill\n"
   ]
  },
  {
   "cell_type": "code",
   "execution_count": null,
   "id": "d240e943-b860-4c24-9c74-565ac0daa504",
   "metadata": {},
   "outputs": [],
   "source": [
    "# Restore variables stored in upstream notebooks\n",
    "%store -r data_dir"
   ]
  },
  {
   "cell_type": "code",
   "execution_count": null,
   "id": "fa0b9f5d-dbd2-4bca-890c-09d8679e9d69",
   "metadata": {},
   "outputs": [],
   "source": [
    "print(f'# TODO: Preprocess data stored at {data_dir} here')"
   ]
  }
 ],
 "metadata": {
  "kernelspec": {
   "display_name": "Python 3",
   "language": "python",
   "name": "python3"
  },
  "language_info": {
   "codemirror_mode": {
    "name": "ipython",
    "version": 3
   },
   "file_extension": ".py",
   "mimetype": "text/x-python",
   "name": "python",
   "nbconvert_exporter": "python",
   "pygments_lexer": "ipython3",
   "version": "3.7.10"
  }
 },
 "nbformat": 4,
 "nbformat_minor": 5
}
