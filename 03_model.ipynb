{
 "cells": [
  {
   "cell_type": "code",
   "execution_count": null,
   "id": "f2a0e3ab-4ca4-4903-bf38-9d1880c803f2",
   "metadata": {
    "tags": [
     "parameters"
    ]
   },
   "outputs": [],
   "source": [
    "# Default parameters\n",
    "# Define default parameters in this notebook cell; these parameters can be overriden from command line via papermill\n"
   ]
  },
  {
   "cell_type": "code",
   "execution_count": null,
   "id": "6e4ea093-bbb8-4f8e-8d95-bbe96f944d43",
   "metadata": {},
   "outputs": [],
   "source": [
    "# import cudf\n",
    "# import dask_cudf\n",
    "# s = cudf.Series([1,2,3,None,4])\n",
    "# ds = dask_cudf.from_cudf(s, npartitions=2)\n",
    "# ds.compute()\n",
    "print('# TODO: Define, train, test, and validate model here')"
   ]
  }
 ],
 "metadata": {
  "kernelspec": {
   "display_name": "Python 3",
   "language": "python",
   "name": "python3"
  },
  "language_info": {
   "codemirror_mode": {
    "name": "ipython",
    "version": 3
   },
   "file_extension": ".py",
   "mimetype": "text/x-python",
   "name": "python",
   "nbconvert_exporter": "python",
   "pygments_lexer": "ipython3",
   "version": "3.7.10"
  }
 },
 "nbformat": 4,
 "nbformat_minor": 5
}
