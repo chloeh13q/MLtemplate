{
 "cells": [
  {
   "cell_type": "code",
   "execution_count": null,
   "id": "fff38bda-3b67-4c72-9d90-a804bc73c797",
   "metadata": {
    "tags": [
     "parameters"
    ]
   },
   "outputs": [],
   "source": [
    "# Default parameters\n",
    "# Define default parameters in this notebook cell; these parameters can be overriden from command line via papermill\n"
   ]
  },
  {
   "cell_type": "code",
   "execution_count": null,
   "id": "b6bc48a1-d592-40ee-a31b-49d91d74de4a",
   "metadata": {},
   "outputs": [],
   "source": [
    "print('# TODO: Deploy model here')"
   ]
  }
 ],
 "metadata": {
  "kernelspec": {
   "display_name": "Python 3",
   "language": "python",
   "name": "python3"
  },
  "language_info": {
   "codemirror_mode": {
    "name": "ipython",
    "version": 3
   },
   "file_extension": ".py",
   "mimetype": "text/x-python",
   "name": "python",
   "nbconvert_exporter": "python",
   "pygments_lexer": "ipython3",
   "version": "3.7.10"
  }
 },
 "nbformat": 4,
 "nbformat_minor": 5
}
